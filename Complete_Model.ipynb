{
  "nbformat": 4,
  "nbformat_minor": 0,
  "metadata": {
    "colab": {
      "name": "Complete Model",
      "provenance": [],
      "authorship_tag": "ABX9TyPtb+W9RtMTkbGiXnXAKj9c",
      "include_colab_link": true
    },
    "kernelspec": {
      "name": "python3",
      "display_name": "Python 3"
    }
  },
  "cells": [
    {
      "cell_type": "markdown",
      "metadata": {
        "id": "view-in-github",
        "colab_type": "text"
      },
      "source": [
        "<a href=\"https://colab.research.google.com/github/Divyesh-2598/Image-Classification/blob/master/Complete_Model.ipynb\" target=\"_parent\"><img src=\"https://colab.research.google.com/assets/colab-badge.svg\" alt=\"Open In Colab\"/></a>"
      ]
    },
    {
      "cell_type": "code",
      "metadata": {
        "id": "J2y4Ecyl1oxv",
        "colab_type": "code",
        "outputId": "4c5ba75b-1407-4187-f3ef-a3ed30012358",
        "colab": {
          "base_uri": "https://localhost:8080/",
          "height": 122
        }
      },
      "source": [
        "from google.colab import drive\n",
        "drive.mount('/content/drive/')"
      ],
      "execution_count": 0,
      "outputs": [
        {
          "output_type": "stream",
          "text": [
            "Go to this URL in a browser: https://accounts.google.com/o/oauth2/auth?client_id=947318989803-6bn6qk8qdgf4n4g3pfee6491hc0brc4i.apps.googleusercontent.com&redirect_uri=urn%3aietf%3awg%3aoauth%3a2.0%3aoob&response_type=code&scope=email%20https%3a%2f%2fwww.googleapis.com%2fauth%2fdocs.test%20https%3a%2f%2fwww.googleapis.com%2fauth%2fdrive%20https%3a%2f%2fwww.googleapis.com%2fauth%2fdrive.photos.readonly%20https%3a%2f%2fwww.googleapis.com%2fauth%2fpeopleapi.readonly\n",
            "\n",
            "Enter your authorization code:\n",
            "··········\n",
            "Mounted at /content/drive/\n"
          ],
          "name": "stdout"
        }
      ]
    },
    {
      "cell_type": "code",
      "metadata": {
        "id": "VoDHYwWI19zn",
        "colab_type": "code",
        "outputId": "c775a781-63dd-42f0-96fd-cda47b0d4596",
        "colab": {
          "base_uri": "https://localhost:8080/",
          "height": 34
        }
      },
      "source": [
        "%tensorflow_version 1.x"
      ],
      "execution_count": 0,
      "outputs": [
        {
          "output_type": "stream",
          "text": [
            "TensorFlow 1.x selected.\n"
          ],
          "name": "stdout"
        }
      ]
    },
    {
      "cell_type": "code",
      "metadata": {
        "id": "Xh8CdEUb2KX6",
        "colab_type": "code",
        "colab": {}
      },
      "source": [
        "!unzip -q \"/content/Train.zip\""
      ],
      "execution_count": 0,
      "outputs": []
    },
    {
      "cell_type": "code",
      "metadata": {
        "id": "Z6BywbOA2nSM",
        "colab_type": "code",
        "colab": {}
      },
      "source": [
        "import numpy as np\n",
        "import matplotlib.pyplot as plt\n",
        "import tensorflow as tf\n",
        "from tensorflow import keras\n",
        "import os\n",
        "from tensorflow.keras.preprocessing.image import ImageDataGenerator\n",
        "import tensorflow_hub as hub\n",
        "from PIL import Image"
      ],
      "execution_count": 0,
      "outputs": []
    },
    {
      "cell_type": "code",
      "metadata": {
        "id": "W6IiIVFD2qWn",
        "colab_type": "code",
        "outputId": "e7c56381-12ed-4a7d-f940-b54a3eb4f811",
        "colab": {
          "base_uri": "https://localhost:8080/",
          "height": 187
        }
      },
      "source": [
        "train_dir=\"/content/Train\"\n",
        "test_dir=\"\"\n",
        "\n",
        "train_asthama= ['/content/Train/{}'.format(i) for i in os.listdir(train_dir) if 'A' in i]\n",
        "train_bronchitis=['/content/Train/{}'.format(i) for i in os.listdir(train_dir) if 'B' in i]\n",
        "train_copd=['/content/Train/{}'.format(i) for i in os.listdir(train_dir) if 'C' in i]\n",
        "train_ild=['/content/Train/{}'.format(i) for i in os.listdir(train_dir) if 'I' in i]\n",
        "train_normal=['/content/Train/{}'.format(i) for i in os.listdir(train_dir) if 'N' in i]\n",
        "train_pnuemonia=['/content/Train/{}'.format(i) for i in os.listdir(train_dir) if 'P' in i]\n",
        "\n",
        "train_imgs=train_asthama+train_bronchitis+train_copd+train_ild+train_normal+train_pnuemonia\n",
        "(train_imgs[:10])"
      ],
      "execution_count": 0,
      "outputs": [
        {
          "output_type": "execute_result",
          "data": {
            "text/plain": [
              "['/content/Train/A52.jpg',\n",
              " '/content/Train/A67.jpg',\n",
              " '/content/Train/A50.jpg',\n",
              " '/content/Train/A14.jpg',\n",
              " '/content/Train/A1.jpg',\n",
              " '/content/Train/A20.jpg',\n",
              " '/content/Train/A38.jpg',\n",
              " '/content/Train/A32.jpg',\n",
              " '/content/Train/A35.jpg',\n",
              " '/content/Train/A30.jpg']"
            ]
          },
          "metadata": {
            "tags": []
          },
          "execution_count": 12
        }
      ]
    },
    {
      "cell_type": "code",
      "metadata": {
        "id": "egzf6FN4W9Db",
        "colab_type": "code",
        "outputId": "30eaa71e-fc78-4e9f-d38e-31876e313b80",
        "colab": {
          "base_uri": "https://localhost:8080/",
          "height": 187
        }
      },
      "source": [
        "import random\n",
        "random.shuffle(train_imgs)\n",
        "for sample in train_imgs[:10]:\n",
        "    print(sample)"
      ],
      "execution_count": 0,
      "outputs": [
        {
          "output_type": "stream",
          "text": [
            "/content/Train/P17.jpg\n",
            "/content/Train/N1.jpg\n",
            "/content/Train/I8.jpg\n",
            "/content/Train/A45.jpg\n",
            "/content/Train/I56.jpg\n",
            "/content/Train/I9.jpg\n",
            "/content/Train/B51.jpg\n",
            "/content/Train/A7.jpg\n",
            "/content/Train/A15.jpg\n",
            "/content/Train/A58.jpg\n"
          ],
          "name": "stdout"
        }
      ]
    },
    {
      "cell_type": "code",
      "metadata": {
        "id": "DJujoIPuGirA",
        "colab_type": "code",
        "colab": {}
      },
      "source": [
        "#train_labels = [fn.split('/')[-1].split('.')[0].split('\\d+')[0] for fn in train_imgs]\n",
        "#train_labels"
      ],
      "execution_count": 0,
      "outputs": []
    },
    {
      "cell_type": "code",
      "metadata": {
        "id": "X9a8R61CGinK",
        "colab_type": "code",
        "colab": {}
      },
      "source": [
        ""
      ],
      "execution_count": 0,
      "outputs": []
    },
    {
      "cell_type": "code",
      "metadata": {
        "id": "OQwrbKi04hTa",
        "colab_type": "code",
        "outputId": "004ae20a-721f-4f29-884e-ed93bc15d2c2",
        "colab": {
          "base_uri": "https://localhost:8080/",
          "height": 269
        }
      },
      "source": [
        "import matplotlib.image as mpimg \n",
        "for imgs in train_imgs[:1]:\n",
        "  img=mpimg.imread(imgs)\n",
        "  plt.imshow(img)\n",
        "  plt.show()"
      ],
      "execution_count": 0,
      "outputs": [
        {
          "output_type": "display_data",
          "data": {
            "image/png": "[encoded data removed]",
            "text/plain": [
              "<Figure size 432x288 with 1 Axes>"
            ]
          },
          "metadata": {
            "tags": [],
            "needs_background": "light"
          }
        }
      ]
    },
    {
      "cell_type": "code",
      "metadata": {
        "id": "RQVs1fdw_bCS",
        "colab_type": "code",
        "colab": {}
      },
      "source": [
        "nrows=224\n",
        "ncols=224\n",
        "channel=3"
      ],
      "execution_count": 0,
      "outputs": []
    },
    {
      "cell_type": "code",
      "metadata": {
        "id": "20Md_S99DIT2",
        "colab_type": "code",
        "colab": {}
      },
      "source": [
        "import cv2\n",
        "X=[]\n",
        "y=[]\n",
        "\n",
        "for i in train_imgs:\n",
        "  X.append(cv2.resize(cv2.imread(i,cv2.IMREAD_COLOR), (nrows,ncols), interpolation=cv2.INTER_CUBIC))\n",
        "  if 'A' in i:\n",
        "    y.append(0)\n",
        "  elif 'B' in i:\n",
        "    y.append(1)\n",
        "  elif 'C' in i:\n",
        "    y.append(2)\n",
        "  elif 'I' in i:\n",
        "    y.append(3)\n",
        "  elif 'N' in i:\n",
        "    y.append(4)\n",
        "  elif 'P' in i:\n",
        "    y.append(5)"
      ],
      "execution_count": 0,
      "outputs": []
    },
    {
      "cell_type": "code",
      "metadata": {
        "id": "83MRJXz7ieNl",
        "colab_type": "code",
        "outputId": "729c435e-664c-44a3-8558-1e607bc51dcc",
        "colab": {
          "base_uri": "https://localhost:8080/",
          "height": 51
        }
      },
      "source": [
        "X=np.array(X)/255\n",
        "y=np.array(y)\n",
        "\n",
        "print(X.shape)\n",
        "print(y.shape)"
      ],
      "execution_count": 0,
      "outputs": [
        {
          "output_type": "stream",
          "text": [
            "(389, 224, 224, 3)\n",
            "(389,)\n"
          ],
          "name": "stdout"
        }
      ]
    },
    {
      "cell_type": "code",
      "metadata": {
        "id": "BeEuF19Q0BCN",
        "colab_type": "code",
        "outputId": "70ab4b52-169f-439b-a7d7-749bdc3ae408",
        "colab": {
          "base_uri": "https://localhost:8080/",
          "height": 352
        }
      },
      "source": [
        "import seaborn as sns\n",
        "sns.countplot(y)\n",
        "plt.title('label for categories')"
      ],
      "execution_count": 0,
      "outputs": [
        {
          "output_type": "stream",
          "text": [
            "/usr/local/lib/python3.6/dist-packages/statsmodels/tools/_testing.py:19: FutureWarning: pandas.util.testing is deprecated. Use the functions in the public API at pandas.testing instead.\n",
            "  import pandas.util.testing as tm\n"
          ],
          "name": "stderr"
        },
        {
          "output_type": "execute_result",
          "data": {
            "text/plain": [
              "Text(0.5, 1.0, 'label for categories')"
            ]
          },
          "metadata": {
            "tags": []
          },
          "execution_count": 18
        },
        {
          "output_type": "display_data",
          "data": {
            "image/png": "[encoded data removed]",
            "text/plain": [
              "<Figure size 432x288 with 1 Axes>"
            ]
          },
          "metadata": {
            "tags": [],
            "needs_background": "light"
          }
        }
      ]
    },
    {
      "cell_type": "code",
      "metadata": {
        "id": "rdojlhE00WzZ",
        "colab_type": "code",
        "colab": {}
      },
      "source": [
        "from sklearn.model_selection import train_test_split\n",
        "(X_train, X_val, y_train, y_val) = train_test_split(X, y, test_size=0.20, random_state=42)"
      ],
      "execution_count": 0,
      "outputs": []
    },
    {
      "cell_type": "code",
      "metadata": {
        "id": "H3odHDeV1OzH",
        "colab_type": "code",
        "colab": {}
      },
      "source": [
        "from tensorflow.keras.preprocessing.image import ImageDataGenerator\n",
        "INIT_LR = 1\n",
        "EPOCHS = 12\n",
        "BS = 10\n",
        "trainAug = ImageDataGenerator(rotation_range=50, fill_mode=\"nearest\", zoom_range=0.3, width_shift_range=0.2, \n",
        "                              height_shift_range=0.2, shear_range=0.2, horizontal_flip=True)"
      ],
      "execution_count": 0,
      "outputs": []
    },
    {
      "cell_type": "code",
      "metadata": {
        "id": "csj6pllU1VzL",
        "colab_type": "code",
        "outputId": "ee276810-06cb-445b-80ee-e1e376899e33",
        "colab": {
          "base_uri": "https://localhost:8080/",
          "height": 935
        }
      },
      "source": [
        "from keras import layers\n",
        "from keras import models\n",
        "#from keras.applications import VGG16\n",
        "from keras.applications import MobileNet\n",
        "vgg16_model = keras.applications.vgg16.VGG16()\n",
        "#mobile_model = keras.applications.mobilenet.MobileNet()\n",
        "vgg16_model.summary()\n",
        "#mobile_model.summary()"
      ],
      "execution_count": 0,
      "outputs": [
        {
          "output_type": "stream",
          "text": [
            "Model: \"vgg16\"\n",
            "_________________________________________________________________\n",
            "Layer (type)                 Output Shape              Param #   \n",
            "=================================================================\n",
            "input_3 (InputLayer)         [(None, 224, 224, 3)]     0         \n",
            "_________________________________________________________________\n",
            "block1_conv1 (Conv2D)        (None, 224, 224, 64)      1792      \n",
            "_________________________________________________________________\n",
            "block1_conv2 (Conv2D)        (None, 224, 224, 64)      36928     \n",
            "_________________________________________________________________\n",
            "block1_pool (MaxPooling2D)   (None, 112, 112, 64)      0         \n",
            "_________________________________________________________________\n",
            "block2_conv1 (Conv2D)        (None, 112, 112, 128)     73856     \n",
            "_________________________________________________________________\n",
            "block2_conv2 (Conv2D)        (None, 112, 112, 128)     147584    \n",
            "_________________________________________________________________\n",
            "block2_pool (MaxPooling2D)   (None, 56, 56, 128)       0         \n",
            "_________________________________________________________________\n",
            "block3_conv1 (Conv2D)        (None, 56, 56, 256)       295168    \n",
            "_________________________________________________________________\n",
            "block3_conv2 (Conv2D)        (None, 56, 56, 256)       590080    \n",
            "_________________________________________________________________\n",
            "block3_conv3 (Conv2D)        (None, 56, 56, 256)       590080    \n",
            "_________________________________________________________________\n",
            "block3_pool (MaxPooling2D)   (None, 28, 28, 256)       0         \n",
            "_________________________________________________________________\n",
            "block4_conv1 (Conv2D)        (None, 28, 28, 512)       1180160   \n",
            "_________________________________________________________________\n",
            "block4_conv2 (Conv2D)        (None, 28, 28, 512)       2359808   \n",
            "_________________________________________________________________\n",
            "block4_conv3 (Conv2D)        (None, 28, 28, 512)       2359808   \n",
            "_________________________________________________________________\n",
            "block4_pool (MaxPooling2D)   (None, 14, 14, 512)       0         \n",
            "_________________________________________________________________\n",
            "block5_conv1 (Conv2D)        (None, 14, 14, 512)       2359808   \n",
            "_________________________________________________________________\n",
            "block5_conv2 (Conv2D)        (None, 14, 14, 512)       2359808   \n",
            "_________________________________________________________________\n",
            "block5_conv3 (Conv2D)        (None, 14, 14, 512)       2359808   \n",
            "_________________________________________________________________\n",
            "block5_pool (MaxPooling2D)   (None, 7, 7, 512)         0         \n",
            "_________________________________________________________________\n",
            "flatten (Flatten)            (None, 25088)             0         \n",
            "_________________________________________________________________\n",
            "fc1 (Dense)                  (None, 4096)              102764544 \n",
            "_________________________________________________________________\n",
            "fc2 (Dense)                  (None, 4096)              16781312  \n",
            "_________________________________________________________________\n",
            "predictions (Dense)          (None, 1000)              4097000   \n",
            "=================================================================\n",
            "Total params: 138,357,544\n",
            "Trainable params: 138,357,544\n",
            "Non-trainable params: 0\n",
            "_________________________________________________________________\n"
          ],
          "name": "stdout"
        }
      ]
    },
    {
      "cell_type": "code",
      "metadata": {
        "id": "ls-PjxaN1aU3",
        "colab_type": "code",
        "outputId": "ec566bfa-d381-4f2a-dc95-661c14ce7ea7",
        "colab": {
          "base_uri": "https://localhost:8080/",
          "height": 867
        }
      },
      "source": [
        "from tensorflow.keras.models import Sequential\n",
        "model = Sequential()\n",
        "for layer in vgg16_model.layers[:-1]:\n",
        "  model.add(layer)\n",
        "\n",
        "model.summary()"
      ],
      "execution_count": 0,
      "outputs": [
        {
          "output_type": "stream",
          "text": [
            "Model: \"sequential_2\"\n",
            "_________________________________________________________________\n",
            "Layer (type)                 Output Shape              Param #   \n",
            "=================================================================\n",
            "block1_conv1 (Conv2D)        (None, 224, 224, 64)      1792      \n",
            "_________________________________________________________________\n",
            "block1_conv2 (Conv2D)        (None, 224, 224, 64)      36928     \n",
            "_________________________________________________________________\n",
            "block1_pool (MaxPooling2D)   (None, 112, 112, 64)      0         \n",
            "_________________________________________________________________\n",
            "block2_conv1 (Conv2D)        (None, 112, 112, 128)     73856     \n",
            "_________________________________________________________________\n",
            "block2_conv2 (Conv2D)        (None, 112, 112, 128)     147584    \n",
            "_________________________________________________________________\n",
            "block2_pool (MaxPooling2D)   (None, 56, 56, 128)       0         \n",
            "_________________________________________________________________\n",
            "block3_conv1 (Conv2D)        (None, 56, 56, 256)       295168    \n",
            "_________________________________________________________________\n",
            "block3_conv2 (Conv2D)        (None, 56, 56, 256)       590080    \n",
            "_________________________________________________________________\n",
            "block3_conv3 (Conv2D)        (None, 56, 56, 256)       590080    \n",
            "_________________________________________________________________\n",
            "block3_pool (MaxPooling2D)   (None, 28, 28, 256)       0         \n",
            "_________________________________________________________________\n",
            "block4_conv1 (Conv2D)        (None, 28, 28, 512)       1180160   \n",
            "_________________________________________________________________\n",
            "block4_conv2 (Conv2D)        (None, 28, 28, 512)       2359808   \n",
            "_________________________________________________________________\n",
            "block4_conv3 (Conv2D)        (None, 28, 28, 512)       2359808   \n",
            "_________________________________________________________________\n",
            "block4_pool (MaxPooling2D)   (None, 14, 14, 512)       0         \n",
            "_________________________________________________________________\n",
            "block5_conv1 (Conv2D)        (None, 14, 14, 512)       2359808   \n",
            "_________________________________________________________________\n",
            "block5_conv2 (Conv2D)        (None, 14, 14, 512)       2359808   \n",
            "_________________________________________________________________\n",
            "block5_conv3 (Conv2D)        (None, 14, 14, 512)       2359808   \n",
            "_________________________________________________________________\n",
            "block5_pool (MaxPooling2D)   (None, 7, 7, 512)         0         \n",
            "_________________________________________________________________\n",
            "flatten (Flatten)            (None, 25088)             0         \n",
            "_________________________________________________________________\n",
            "fc1 (Dense)                  (None, 4096)              102764544 \n",
            "_________________________________________________________________\n",
            "fc2 (Dense)                  (None, 4096)              16781312  \n",
            "=================================================================\n",
            "Total params: 134,260,544\n",
            "Trainable params: 134,260,544\n",
            "Non-trainable params: 0\n",
            "_________________________________________________________________\n"
          ],
          "name": "stdout"
        }
      ]
    },
    {
      "cell_type": "code",
      "metadata": {
        "id": "WfVxNbYj1egR",
        "colab_type": "code",
        "colab": {}
      },
      "source": [
        "#freeze the weights of layers\n",
        "for layer in model.layers:\n",
        "  layers.trainable = False\n"
      ],
      "execution_count": 0,
      "outputs": []
    },
    {
      "cell_type": "code",
      "metadata": {
        "id": "W-Jmiz-R1hdj",
        "colab_type": "code",
        "outputId": "c0274c8b-392b-4700-d1b0-70d4e01b7ca0",
        "colab": {
          "base_uri": "https://localhost:8080/",
          "height": 935
        }
      },
      "source": [
        "import tensorflow as tf\n",
        "from tensorflow.keras.layers import Dense, Dropout, Activation, Flatten\n",
        "from tensorflow.keras.layers import Conv2D, MaxPooling2D\n",
        "model.add(Dropout(0.2))\n",
        "model.add(Dense(units=6, activation='softmax'))\n",
        "model.summary()"
      ],
      "execution_count": 0,
      "outputs": [
        {
          "output_type": "stream",
          "text": [
            "Model: \"sequential_2\"\n",
            "_________________________________________________________________\n",
            "Layer (type)                 Output Shape              Param #   \n",
            "=================================================================\n",
            "block1_conv1 (Conv2D)        (None, 224, 224, 64)      1792      \n",
            "_________________________________________________________________\n",
            "block1_conv2 (Conv2D)        (None, 224, 224, 64)      36928     \n",
            "_________________________________________________________________\n",
            "block1_pool (MaxPooling2D)   (None, 112, 112, 64)      0         \n",
            "_________________________________________________________________\n",
            "block2_conv1 (Conv2D)        (None, 112, 112, 128)     73856     \n",
            "_________________________________________________________________\n",
            "block2_conv2 (Conv2D)        (None, 112, 112, 128)     147584    \n",
            "_________________________________________________________________\n",
            "block2_pool (MaxPooling2D)   (None, 56, 56, 128)       0         \n",
            "_________________________________________________________________\n",
            "block3_conv1 (Conv2D)        (None, 56, 56, 256)       295168    \n",
            "_________________________________________________________________\n",
            "block3_conv2 (Conv2D)        (None, 56, 56, 256)       590080    \n",
            "_________________________________________________________________\n",
            "block3_conv3 (Conv2D)        (None, 56, 56, 256)       590080    \n",
            "_________________________________________________________________\n",
            "block3_pool (MaxPooling2D)   (None, 28, 28, 256)       0         \n",
            "_________________________________________________________________\n",
            "block4_conv1 (Conv2D)        (None, 28, 28, 512)       1180160   \n",
            "_________________________________________________________________\n",
            "block4_conv2 (Conv2D)        (None, 28, 28, 512)       2359808   \n",
            "_________________________________________________________________\n",
            "block4_conv3 (Conv2D)        (None, 28, 28, 512)       2359808   \n",
            "_________________________________________________________________\n",
            "block4_pool (MaxPooling2D)   (None, 14, 14, 512)       0         \n",
            "_________________________________________________________________\n",
            "block5_conv1 (Conv2D)        (None, 14, 14, 512)       2359808   \n",
            "_________________________________________________________________\n",
            "block5_conv2 (Conv2D)        (None, 14, 14, 512)       2359808   \n",
            "_________________________________________________________________\n",
            "block5_conv3 (Conv2D)        (None, 14, 14, 512)       2359808   \n",
            "_________________________________________________________________\n",
            "block5_pool (MaxPooling2D)   (None, 7, 7, 512)         0         \n",
            "_________________________________________________________________\n",
            "flatten (Flatten)            (None, 25088)             0         \n",
            "_________________________________________________________________\n",
            "fc1 (Dense)                  (None, 4096)              102764544 \n",
            "_________________________________________________________________\n",
            "fc2 (Dense)                  (None, 4096)              16781312  \n",
            "_________________________________________________________________\n",
            "dropout_2 (Dropout)          (None, 4096)              0         \n",
            "_________________________________________________________________\n",
            "dense_2 (Dense)              (None, 6)                 24582     \n",
            "=================================================================\n",
            "Total params: 134,285,126\n",
            "Trainable params: 134,285,126\n",
            "Non-trainable params: 0\n",
            "_________________________________________________________________\n"
          ],
          "name": "stdout"
        }
      ]
    },
    {
      "cell_type": "code",
      "metadata": {
        "id": "N0QDV6w-1k3q",
        "colab_type": "code",
        "colab": {}
      },
      "source": [
        "from keras import optimizers\n",
        "#sgd = optimizers.SGD(lr=INIT_LR, decay=INIT_LR / EPOCHS, momentum=0.9, nesterov=True)\n",
        "#adam = optimizers.Adam(lr=INIT_LR, beta_1=0.9, beta_2=0.999, amsgrad=False)\n",
        "rmsprop=optimizers.RMSprop(lr=INIT_LR, rho=0.9)\n",
        "model.compile(optimizer='rmsprop', loss='sparse_categorical_crossentropy', metrics=['accuracy'])"
      ],
      "execution_count": 0,
      "outputs": []
    },
    {
      "cell_type": "code",
      "metadata": {
        "id": "HfM6X7Np1ndz",
        "colab_type": "code",
        "outputId": "4e73c3ed-80e1-40f9-f23c-dab1043a90d1",
        "colab": {
          "base_uri": "https://localhost:8080/",
          "height": 853
        }
      },
      "source": [
        "History = model.fit_generator(trainAug.flow(X_train, y_train, batch_size=BS), steps_per_epoch=len(X_train) // BS, \n",
        "                        validation_data=(X_val, y_val), validation_steps=len(X_val) // BS, epochs=EPOCHS)"
      ],
      "execution_count": 0,
      "outputs": [
        {
          "output_type": "stream",
          "text": [
            "Epoch 1/12\n",
            "30/31 [============================>.] - ETA: 19s - loss: 5390777.9655 - acc: 0.1821Epoch 1/12\n",
            "78/31 [===========================================================================] - 40s 512ms/sample - loss: 2.2157 - acc: 0.2179\n",
            "31/31 [==============================] - 644s 21s/step - loss: 5221756.6441 - acc: 0.1761 - val_loss: 2.0424 - val_acc: 0.2179\n",
            "Epoch 2/12\n",
            "30/31 [============================>.] - ETA: 19s - loss: 3.0155 - acc: 0.1924Epoch 1/12\n",
            "78/31 [===========================================================================] - 40s 513ms/sample - loss: 2.5986 - acc: 0.1154\n",
            "31/31 [==============================] - 641s 21s/step - loss: 2.9732 - acc: 0.1927 - val_loss: 2.8590 - val_acc: 0.1154\n",
            "Epoch 3/12\n",
            "30/31 [============================>.] - ETA: 19s - loss: 2.7939 - acc: 0.1649Epoch 1/12\n",
            "78/31 [===========================================================================] - 40s 513ms/sample - loss: 4.5337 - acc: 0.2179\n",
            "31/31 [==============================] - 640s 21s/step - loss: 2.8057 - acc: 0.1661 - val_loss: 4.0060 - val_acc: 0.2179\n",
            "Epoch 4/12\n",
            "30/31 [============================>.] - ETA: 19s - loss: 6.3914 - acc: 0.1512Epoch 1/12\n",
            "78/31 [===========================================================================] - 40s 513ms/sample - loss: 6.4237 - acc: 0.1282\n",
            "31/31 [==============================] - 642s 21s/step - loss: 6.3712 - acc: 0.1528 - val_loss: 5.6509 - val_acc: 0.1282\n",
            "Epoch 5/12\n",
            "30/31 [============================>.] - ETA: 19s - loss: 5.7741 - acc: 0.1581Epoch 1/12\n",
            "78/31 [===========================================================================] - 40s 514ms/sample - loss: 1.9728 - acc: 0.1410\n",
            "31/31 [==============================] - 642s 21s/step - loss: 5.6436 - acc: 0.1661 - val_loss: 1.9346 - val_acc: 0.1410\n",
            "Epoch 6/12\n",
            "30/31 [============================>.] - ETA: 19s - loss: 2.1392 - acc: 0.1924Epoch 1/12\n",
            "78/31 [===========================================================================] - 41s 520ms/sample - loss: 2.0762 - acc: 0.1282\n",
            "31/31 [==============================] - 639s 21s/step - loss: 2.1340 - acc: 0.1927 - val_loss: 2.1299 - val_acc: 0.1282\n",
            "Epoch 7/12\n",
            "30/31 [============================>.] - ETA: 19s - loss: 2.1307 - acc: 0.1500Epoch 1/12\n",
            "78/31 [===========================================================================] - 40s 513ms/sample - loss: 2.5567 - acc: 0.1282\n",
            "31/31 [==============================] - 656s 21s/step - loss: 2.1436 - acc: 0.1516 - val_loss: 2.5920 - val_acc: 0.1282\n",
            "Epoch 8/12\n",
            "30/31 [============================>.] - ETA: 18s - loss: 2.4748 - acc: 0.1809Epoch 1/12\n",
            "78/31 [===========================================================================] - 40s 512ms/sample - loss: 2.6035 - acc: 0.1410\n",
            "31/31 [==============================] - 621s 20s/step - loss: 2.4830 - acc: 0.1781 - val_loss: 2.7850 - val_acc: 0.1410\n",
            "Epoch 9/12\n",
            "30/31 [============================>.] - ETA: 19s - loss: 2.4949 - acc: 0.1821Epoch 1/12\n",
            "78/31 [===========================================================================] - 40s 519ms/sample - loss: 1.8125 - acc: 0.1410\n",
            "31/31 [==============================] - 639s 21s/step - loss: 2.4794 - acc: 0.1827 - val_loss: 1.8466 - val_acc: 0.1410\n",
            "Epoch 10/12\n",
            "30/31 [============================>.] - ETA: 19s - loss: 4.1619 - acc: 0.1467Epoch 1/12\n",
            "78/31 [===========================================================================] - 44s 561ms/sample - loss: 4.5478 - acc: 0.1282\n",
            "31/31 [==============================] - 642s 21s/step - loss: 4.0776 - acc: 0.1462 - val_loss: 4.1338 - val_acc: 0.1282\n",
            "Epoch 11/12\n",
            "30/31 [============================>.] - ETA: 19s - loss: 1.9379 - acc: 0.1821Epoch 1/12\n",
            "78/31 [===========================================================================] - 40s 516ms/sample - loss: 2.0352 - acc: 0.1282\n",
            "31/31 [==============================] - 644s 21s/step - loss: 1.9300 - acc: 0.1860 - val_loss: 2.0970 - val_acc: 0.1282\n",
            "Epoch 12/12\n",
            "30/31 [============================>.] - ETA: 20s - loss: 1.9539 - acc: 0.1633Epoch 1/12\n",
            "78/31 [===========================================================================] - 40s 513ms/sample - loss: 1.7050 - acc: 0.2692\n",
            "31/31 [==============================] - 665s 21s/step - loss: 1.9493 - acc: 0.1677 - val_loss: 1.8509 - val_acc: 0.2692\n"
          ],
          "name": "stdout"
        }
      ]
    },
    {
      "cell_type": "code",
      "metadata": {
        "id": "vA6EJeEAytlM",
        "colab_type": "code",
        "outputId": "3e05efe0-e07f-46b7-a09b-ce8820eab04a",
        "colab": {
          "base_uri": "https://localhost:8080/",
          "height": 281
        }
      },
      "source": [
        "acc = History.history['acc']\n",
        "val_acc = History.history['val_acc']\n",
        "epochs = range(1, len(acc) + 1)\n",
        "plt.plot(epochs, acc, 'b', label='Training Accuracy')\n",
        "plt.plot(epochs, val_acc, 'r', label='Validation Accuracy')\n",
        "plt.title('Training and Validation Accuracy')\n",
        "plt.legend()\n",
        "plt.show()"
      ],
      "execution_count": 0,
      "outputs": [
        {
          "output_type": "display_data",
          "data": {
            "image/png": "[encoded data removed]",
            "text/plain": [
              "<Figure size 432x288 with 1 Axes>"
            ]
          },
          "metadata": {
            "tags": [],
            "needs_background": "light"
          }
        }
      ]
    },
    {
      "cell_type": "code",
      "metadata": {
        "id": "0KgYgDiq3BkD",
        "colab_type": "code",
        "outputId": "e10bdb94-2199-4bbc-9f99-0e17dbfe7ba3",
        "colab": {
          "base_uri": "https://localhost:8080/",
          "height": 281
        }
      },
      "source": [
        "loss = History.history['loss']\n",
        "val_loss = History.history['val_loss']\n",
        "epochs = range(1, len(acc) + 1)\n",
        "plt.plot(epochs, loss, 'b', label='Training Loss')\n",
        "plt.plot(epochs, val_loss, 'r', label='Validation Loss')\n",
        "plt.title('Training and Validation Loss')\n",
        "plt.legend()\n",
        "plt.show()"
      ],
      "execution_count": 0,
      "outputs": [
        {
          "output_type": "display_data",
          "data": {
            "image/png": "[encoded data removed]",
            "text/plain": [
              "<Figure size 432x288 with 1 Axes>"
            ]
          },
          "metadata": {
            "tags": [],
            "needs_background": "light"
          }
        }
      ]
    },
    {
      "cell_type": "code",
      "metadata": {
        "id": "-h7Y6kKA152n",
        "colab_type": "code",
        "outputId": "caf7b5e7-931a-402c-d3fd-b305ce865376",
        "colab": {
          "base_uri": "https://localhost:8080/",
          "height": 51
        }
      },
      "source": [
        "def prepare(filepath):\n",
        "    IMG_SIZE = 224\n",
        "    img_array = cv2.imread(filepath)\n",
        "    new_array = cv2.resize(img_array, (IMG_SIZE, IMG_SIZE))\n",
        "    return new_array.reshape(-1, IMG_SIZE, IMG_SIZE, 3)\n",
        "\n",
        "predictions = model.predict([prepare('/content/P.jpg78.jpg')])\n",
        "print(predictions[0])"
      ],
      "execution_count": 0,
      "outputs": [
        {
          "output_type": "stream",
          "text": [
            "[0.0000000e+00 1.4574371e-28 1.0000000e+00 0.0000000e+00 0.0000000e+00\n",
            " 0.0000000e+00]\n"
          ],
          "name": "stdout"
        }
      ]
    },
    {
      "cell_type": "code",
      "metadata": {
        "id": "wpkpmkD2xmLh",
        "colab_type": "code",
        "colab": {}
      },
      "source": [
        "''"
      ],
      "execution_count": 0,
      "outputs": []
    }
  ]
}